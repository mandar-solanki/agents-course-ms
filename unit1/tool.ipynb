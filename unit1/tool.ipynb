{
  "nbformat": 4,
  "nbformat_minor": 0,
  "metadata": {
    "colab": {
      "provenance": [],
      "authorship_tag": "ABX9TyPMo5Bzw3Dtu0+DpcWShWvo",
      "include_colab_link": true
    },
    "kernelspec": {
      "name": "python3",
      "display_name": "Python 3"
    },
    "language_info": {
      "name": "python"
    }
  },
  "cells": [
    {
      "cell_type": "markdown",
      "metadata": {
        "id": "view-in-github",
        "colab_type": "text"
      },
      "source": [
        "<a href=\"https://colab.research.google.com/github/mandar-solanki/agents-course-ms/blob/main/agent_tool.ipynb\" target=\"_parent\"><img src=\"https://colab.research.google.com/assets/colab-badge.svg\" alt=\"Open In Colab\"/></a>"
      ]
    },
    {
      "cell_type": "code",
      "execution_count": 1,
      "metadata": {
        "id": "CKv2VQv3psQm"
      },
      "outputs": [],
      "source": [
        "# Define Tool class\n",
        "from typing import Callable\n",
        "\n",
        "class Tool:\n",
        "    \"\"\"\n",
        "    A class representing a reusable piece of code (Tool).\n",
        "\n",
        "    Attributes:\n",
        "        name (str): Name of the tool.\n",
        "        description (str): A textual description of what the tool does.\n",
        "        func (callable): The function this tool wraps.\n",
        "        arguments (list): A list of arguments.\n",
        "        outputs (str or list): The return type(s) of the wrapped function.\n",
        "    \"\"\"\n",
        "    def __init__(self,\n",
        "                 name: str,\n",
        "                 description: str,\n",
        "                 func: Callable,\n",
        "                 arguments: list,\n",
        "                 outputs: str):\n",
        "        self.name = name\n",
        "        self.description = description\n",
        "        self.func = func\n",
        "        self.arguments = arguments\n",
        "        self.outputs = outputs\n",
        "\n",
        "    def to_string(self) -> str:\n",
        "        \"\"\"\n",
        "        Return a string representation of the tool,\n",
        "        including its name, description, arguments, and outputs.\n",
        "        \"\"\"\n",
        "        args_str = \", \".join([\n",
        "            f\"{arg_name}: {arg_type}\" for arg_name, arg_type in self.arguments\n",
        "        ])\n",
        "\n",
        "        return (\n",
        "            f\"Tool Name: {self.name},\"\n",
        "            f\" Description: {self.description},\"\n",
        "            f\" Arguments: {args_str},\"\n",
        "            f\" Outputs: {self.outputs}\"\n",
        "        )\n",
        "\n",
        "    def __call__(self, *args, **kwargs):\n",
        "        \"\"\"\n",
        "        Invoke the underlying function (callable) with provided arguments.\n",
        "        \"\"\"\n",
        "        return self.func(*args, **kwargs)\n"
      ]
    },
    {
      "cell_type": "code",
      "source": [
        "# Define tool decorator\n",
        "import inspect\n",
        "\n",
        "def tool(func):\n",
        "    \"\"\"\n",
        "    A decorator that creates a Tool instance from the given function.\n",
        "    \"\"\"\n",
        "    # Get the function signature\n",
        "    signature = inspect.signature(func)\n",
        "\n",
        "    # Extract (param_name, param_annotation) pairs for inputs\n",
        "    arguments = []\n",
        "    for param in signature.parameters.values():\n",
        "        annotation_name = (\n",
        "            param.annotation.__name__\n",
        "            if hasattr(param.annotation, '__name__')\n",
        "            else str(param.annotation)\n",
        "        )\n",
        "        arguments.append((param.name, annotation_name))\n",
        "\n",
        "    # Determine the return annotation\n",
        "    return_annotation = signature.return_annotation\n",
        "    if return_annotation is inspect._empty:\n",
        "        outputs = \"No return annotation\"\n",
        "    else:\n",
        "        outputs = (\n",
        "            return_annotation.__name__\n",
        "            if hasattr(return_annotation, '__name__')\n",
        "            else str(return_annotation)\n",
        "        )\n",
        "\n",
        "    # Use the function's docstring as the description (default if None)\n",
        "    description = func.__doc__ or \"No description provided.\"\n",
        "\n",
        "    # The function name becomes the Tool name\n",
        "    name = func.__name__\n",
        "\n",
        "    # Return a new Tool instance\n",
        "    return Tool(\n",
        "        name=name,\n",
        "        description=description,\n",
        "        func=func,\n",
        "        arguments=arguments,\n",
        "        outputs=outputs\n",
        "    )\n"
      ],
      "metadata": {
        "id": "lI_Ubg1CqY2G"
      },
      "execution_count": 2,
      "outputs": []
    },
    {
      "cell_type": "code",
      "source": [
        "@tool\n",
        "def calculator(a: int, b: int) -> int:\n",
        "    \"\"\"Multiply two integers.\"\"\"\n",
        "    return a * b\n",
        "\n",
        "print(calculator.to_string())\n"
      ],
      "metadata": {
        "colab": {
          "base_uri": "https://localhost:8080/"
        },
        "id": "pTeywCtkqKBO",
        "outputId": "36c467ce-e6ff-49a0-d06e-d7ad69da04d9"
      },
      "execution_count": 3,
      "outputs": [
        {
          "output_type": "stream",
          "name": "stdout",
          "text": [
            "Tool Name: calculator, Description: Multiply two integers., Arguments: a: int, b: int, Outputs: int\n"
          ]
        }
      ]
    },
    {
      "cell_type": "code",
      "source": [
        "calculator_tool = Tool(\n",
        "    \"calculator\",                   # name\n",
        "    \"Multiply two integers.\",       # description\n",
        "    calculator,                     # function to call\n",
        "    [(\"a\", \"int\"), (\"b\", \"int\")],   # inputs (names and types)\n",
        "    \"int\",                          # output\n",
        ")"
      ],
      "metadata": {
        "id": "GltQ8CUVqCEM"
      },
      "execution_count": 4,
      "outputs": []
    }
  ]
}
